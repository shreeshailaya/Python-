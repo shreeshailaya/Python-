{
  "nbformat": 4,
  "nbformat_minor": 0,
  "metadata": {
    "colab": {
      "name": "B/S Stock using SMA20-30.ipynb",
      "provenance": [],
      "authorship_tag": "ABX9TyNnLFlGqEFh34r6ajvIU07O",
      "include_colab_link": true
    },
    "kernelspec": {
      "name": "python3",
      "display_name": "Python 3"
    }
  },
  "cells": [
    {
      "cell_type": "markdown",
      "metadata": {
        "id": "view-in-github",
        "colab_type": "text"
      },
      "source": [
        "<a href=\"https://colab.research.google.com/github/shreeshailaya/Python-/blob/master/B_S_Stock_using_SMA20_50.ipynb\" target=\"_parent\"><img src=\"https://colab.research.google.com/assets/colab-badge.svg\" alt=\"Open In Colab\"/></a>"
      ]
    },
    {
      "cell_type": "code",
      "metadata": {
        "id": "cxpGJypHtLn9",
        "colab_type": "code",
        "colab": {}
      },
      "source": [
        "import pandas_datareader as pd"
      ],
      "execution_count": 2,
      "outputs": []
    },
    {
      "cell_type": "code",
      "metadata": {
        "id": "HsXikXtbtgdV",
        "colab_type": "code",
        "colab": {
          "base_uri": "https://localhost:8080/",
          "height": 53
        },
        "outputId": "a81c33e7-123e-4b5d-a474-064d15fc50b6"
      },
      "source": [
        "df = pd.DataReader('RELIANCE.NS', data_source='yahoo', start='2019-01-01', end='2020-03-16')\n",
        "df\n",
        "\n",
        "df[\"sma_20\"] = df.iloc[:,5].rolling(window=20).mean()\n",
        "df=df.iloc[20:]\n",
        "df\n",
        "\n",
        "df[\"sma_50\"]=df['Adj Close'].rolling(window=50).mean()\n",
        "df=df.iloc[50:]\n",
        "df\n",
        "s=[]\n",
        "b=[]\n",
        "x=0\n",
        "y=0\n",
        "for i in df.index:\n",
        "  if round(df['sma_20'][i],2)<round(df['sma_50'][i],2):\n",
        "    x+=1\n",
        "    b.append(x)\n",
        "  else:\n",
        "    y+=1\n",
        "    s.append(y)\n",
        "print('Buy', +len(b))\n",
        "print('Sell', +len(s))\n",
        "\n",
        "#task for tomorrow create own MACD Indiactor \n",
        "\n"
      ],
      "execution_count": 34,
      "outputs": [
        {
          "output_type": "stream",
          "text": [
            "Buy 119\n",
            "Sell 106\n"
          ],
          "name": "stdout"
        }
      ]
    }
  ]
}