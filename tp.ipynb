{
  "nbformat": 4,
  "nbformat_minor": 0,
  "metadata": {
    "colab": {
      "name": "tp.ipynb",
      "provenance": [],
      "authorship_tag": "ABX9TyN2s5z1FiDtsOvrpwBpTZyf",
      "include_colab_link": true
    },
    "kernelspec": {
      "name": "python3",
      "display_name": "Python 3"
    }
  },
  "cells": [
    {
      "cell_type": "markdown",
      "metadata": {
        "id": "view-in-github",
        "colab_type": "text"
      },
      "source": [
        "<a href=\"https://colab.research.google.com/github/shreeshailaya/Python-/blob/master/tp.ipynb\" target=\"_parent\"><img src=\"https://colab.research.google.com/assets/colab-badge.svg\" alt=\"Open In Colab\"/></a>"
      ]
    },
    {
      "cell_type": "code",
      "metadata": {
        "id": "UlzJEN4Aw_Su",
        "colab_type": "code",
        "outputId": "5acebcef-ba7a-4552-e2a6-27b3c223502c",
        "colab": {
          "base_uri": "https://localhost:8080/",
          "height": 109
        }
      },
      "source": [
        "mx = [2,5,5,8,7,1]\n",
        "\n",
        "sum_of = 0\n",
        "for number in mx:\n",
        "  sum_of = sum_of + number\n",
        "print('mx', +sum_of)\n",
        "\n",
        "\n",
        "n = int(input())\n",
        "m = []\n",
        "for i in range (n):\n",
        " x = int(input())\n",
        " m.append(x)\n",
        "m\n",
        "sum_no=0\n",
        "for number in m:\n",
        "  sum_no += number\n",
        "sum_no"
      ],
      "execution_count": 0,
      "outputs": [
        {
          "output_type": "stream",
          "text": [
            "mx 28\n",
            "2\n",
            "2\n",
            "5\n"
          ],
          "name": "stdout"
        },
        {
          "output_type": "execute_result",
          "data": {
            "text/plain": [
              "7"
            ]
          },
          "metadata": {
            "tags": []
          },
          "execution_count": 8
        }
      ]
    },
    {
      "cell_type": "code",
      "metadata": {
        "id": "AlH0kPBa5sYR",
        "colab_type": "code",
        "outputId": "19149f50-1eca-43ad-e248-a5b4f269ced4",
        "colab": {
          "base_uri": "https://localhost:8080/",
          "height": 72
        }
      },
      "source": [
        "L, R = map(int, input().split())\n",
        "\n",
        "for i in range(L, R+1):\n",
        "  print (i)\n"
      ],
      "execution_count": 0,
      "outputs": [
        {
          "output_type": "stream",
          "text": [
            "2 3\n",
            "2\n",
            "3\n"
          ],
          "name": "stdout"
        }
      ]
    },
    {
      "cell_type": "code",
      "metadata": {
        "id": "MuzrXOFy_Q1_",
        "colab_type": "code",
        "outputId": "eaf06418-647a-42e4-fcc7-9de935428dc9",
        "colab": {
          "base_uri": "https://localhost:8080/",
          "height": 72
        }
      },
      "source": [
        "numArray1 = list(map(int, input().split()))\n",
        "numArray2 = list(map(int, input().split()))\n",
        "\n",
        "sumArray = []\n",
        "\n",
        "for i in range (3):\n",
        "  x = numArray1[i] + numArray2[i]\n",
        "  sumArray.append(x)\n",
        "sumArray\n"
      ],
      "execution_count": 0,
      "outputs": [
        {
          "output_type": "stream",
          "text": [
            "2 5 1\n",
            "2 5 1\n"
          ],
          "name": "stdout"
        },
        {
          "output_type": "execute_result",
          "data": {
            "text/plain": [
              "[4, 10, 2]"
            ]
          },
          "metadata": {
            "tags": []
          },
          "execution_count": 25
        }
      ]
    },
    {
      "cell_type": "code",
      "metadata": {
        "id": "mgIVhMOGlvpU",
        "colab_type": "code",
        "outputId": "3d55ede7-94d4-496d-c5f9-806f46f5b1ec",
        "colab": {
          "base_uri": "https://localhost:8080/",
          "height": 324
        }
      },
      "source": [
        "a=int (input(\"Enter array size\"))\n",
        "array=[]\n",
        "for i in range (a):\n",
        "  no=int (input(\"Enter no\"))\n",
        "  array.append(no)\n",
        "\n",
        "print(array)\n",
        "print(len(array))\n",
        "print (sum(array))\n",
        "\n",
        "suma=int (input(\"Enter Sum Required\"))\n",
        "if suma>0:\n",
        "  for ig in range (0,len(array)):\n",
        "    total= 0+array[ig]\n",
        "    \n",
        "else:\n",
        "  print('Something Went wrong')\n",
        "\n",
        "print(x)\n"
      ],
      "execution_count": 0,
      "outputs": [
        {
          "output_type": "stream",
          "text": [
            "Enter array size2\n",
            "Enter no5\n",
            "Enter no6\n",
            "[5, 6]\n",
            "2\n"
          ],
          "name": "stdout"
        },
        {
          "output_type": "error",
          "ename": "TypeError",
          "evalue": "ignored",
          "traceback": [
            "\u001b[0;31m---------------------------------------------------------------------------\u001b[0m",
            "\u001b[0;31mTypeError\u001b[0m                                 Traceback (most recent call last)",
            "\u001b[0;32m<ipython-input-36-fcc803df7d46>\u001b[0m in \u001b[0;36m<module>\u001b[0;34m()\u001b[0m\n\u001b[1;32m      7\u001b[0m \u001b[0mprint\u001b[0m\u001b[0;34m(\u001b[0m\u001b[0marray\u001b[0m\u001b[0;34m)\u001b[0m\u001b[0;34m\u001b[0m\u001b[0;34m\u001b[0m\u001b[0m\n\u001b[1;32m      8\u001b[0m \u001b[0mprint\u001b[0m\u001b[0;34m(\u001b[0m\u001b[0mlen\u001b[0m\u001b[0;34m(\u001b[0m\u001b[0marray\u001b[0m\u001b[0;34m)\u001b[0m\u001b[0;34m)\u001b[0m\u001b[0;34m\u001b[0m\u001b[0;34m\u001b[0m\u001b[0m\n\u001b[0;32m----> 9\u001b[0;31m \u001b[0mprint\u001b[0m \u001b[0;34m(\u001b[0m\u001b[0msum\u001b[0m\u001b[0;34m(\u001b[0m\u001b[0marray\u001b[0m\u001b[0;34m)\u001b[0m\u001b[0;34m)\u001b[0m\u001b[0;34m\u001b[0m\u001b[0;34m\u001b[0m\u001b[0m\n\u001b[0m\u001b[1;32m     10\u001b[0m \u001b[0;34m\u001b[0m\u001b[0m\n\u001b[1;32m     11\u001b[0m \u001b[0msuma\u001b[0m\u001b[0;34m=\u001b[0m\u001b[0mint\u001b[0m \u001b[0;34m(\u001b[0m\u001b[0minput\u001b[0m\u001b[0;34m(\u001b[0m\u001b[0;34m\"Enter Sum Required\"\u001b[0m\u001b[0;34m)\u001b[0m\u001b[0;34m)\u001b[0m\u001b[0;34m\u001b[0m\u001b[0;34m\u001b[0m\u001b[0m\n",
            "\u001b[0;31mTypeError\u001b[0m: 'int' object is not callable"
          ]
        }
      ]
    },
    {
      "cell_type": "code",
      "metadata": {
        "id": "tzOjqUpAAdWU",
        "colab_type": "code",
        "outputId": "434a9a69-481f-4fca-cd08-1b0b436826f4",
        "colab": {
          "base_uri": "https://localhost:8080/",
          "height": 34
        }
      },
      "source": [
        "n=4\n",
        "for i in range (0, n):\n",
        "  for j in range (i):\n",
        "    print('*', end=\"\")\n",
        "print(\"\\r\")"
      ],
      "execution_count": 0,
      "outputs": [
        {
          "output_type": "stream",
          "text": [
            "******\r\n"
          ],
          "name": "stdout"
        }
      ]
    },
    {
      "cell_type": "code",
      "metadata": {
        "id": "im0RUAMqCb58",
        "colab_type": "code",
        "outputId": "158ec43e-fe30-4fa8-d89e-98e0f31fef4b",
        "colab": {
          "base_uri": "https://localhost:8080/",
          "height": 35
        }
      },
      "source": [
        "x= \"INFRATEL.NSE-Bharti Infratel Limited---> India/NSE\"\n",
        "x.rpartition('.')[0]"
      ],
      "execution_count": 0,
      "outputs": [
        {
          "output_type": "execute_result",
          "data": {
            "text/plain": [
              "'INFRATEL'"
            ]
          },
          "metadata": {
            "tags": []
          },
          "execution_count": 3
        }
      ]
    }
  ]
}