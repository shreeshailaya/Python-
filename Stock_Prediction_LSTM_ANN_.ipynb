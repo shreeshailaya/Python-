{
  "nbformat": 4,
  "nbformat_minor": 0,
  "metadata": {
    "colab": {
      "name": "Stock Prediction LSTM_ANN .ipynb",
      "provenance": [],
      "authorship_tag": "ABX9TyN0MB7Tk3TSAJu+0W6wS90+",
      "include_colab_link": true
    },
    "kernelspec": {
      "name": "python3",
      "display_name": "Python 3"
    }
  },
  "cells": [
    {
      "cell_type": "markdown",
      "metadata": {
        "id": "view-in-github",
        "colab_type": "text"
      },
      "source": [
        "<a href=\"https://colab.research.google.com/github/shreeshailaya/Python-/blob/master/Stock_Prediction_LSTM_ANN_.ipynb\" target=\"_parent\"><img src=\"https://colab.research.google.com/assets/colab-badge.svg\" alt=\"Open In Colab\"/></a>"
      ]
    },
    {
      "cell_type": "code",
      "metadata": {
        "id": "be1eDdn3l9Ek",
        "colab_type": "code",
        "colab": {}
      },
      "source": [
        "#LSTM Long Short Term Memory\n",
        "#Past 60 days stock price\n",
        "\n"
      ],
      "execution_count": 0,
      "outputs": []
    },
    {
      "cell_type": "code",
      "metadata": {
        "id": "T76FyQKpmjn8",
        "colab_type": "code",
        "colab": {}
      },
      "source": [
        "#libaries \n",
        "import math\n",
        "import pandas_datareader as web\n",
        "import numpy as np\n",
        "import pandas as pd\n",
        "from sklearn.preprocessing import MinMaxScaler\n",
        "from keras.models import Sequential\n",
        "from keras.layers import Dense, LSTM\n",
        "import matplotlib.pyplot as plt\n",
        "plt.style.use('fivethirtyeight')"
      ],
      "execution_count": 0,
      "outputs": []
    },
    {
      "cell_type": "code",
      "metadata": {
        "id": "-O0in4nMn2Nt",
        "colab_type": "code",
        "outputId": "68a15fa2-4d31-4418-e2d4-e913b637b707",
        "colab": {
          "base_uri": "https://localhost:8080/",
          "height": 455
        }
      },
      "source": [
        "#get stock quote\n",
        "df= web.DataReader('RELIANCE.NS', data_source='yahoo', start='2012-01-01', end='2020-03-16')\n",
        "\n",
        "df"
      ],
      "execution_count": 24,
      "outputs": [
        {
          "output_type": "execute_result",
          "data": {
            "text/html": [
              "<div>\n",
              "<style scoped>\n",
              "    .dataframe tbody tr th:only-of-type {\n",
              "        vertical-align: middle;\n",
              "    }\n",
              "\n",
              "    .dataframe tbody tr th {\n",
              "        vertical-align: top;\n",
              "    }\n",
              "\n",
              "    .dataframe thead th {\n",
              "        text-align: right;\n",
              "    }\n",
              "</style>\n",
              "<table border=\"1\" class=\"dataframe\">\n",
              "  <thead>\n",
              "    <tr style=\"text-align: right;\">\n",
              "      <th></th>\n",
              "      <th>High</th>\n",
              "      <th>Low</th>\n",
              "      <th>Open</th>\n",
              "      <th>Close</th>\n",
              "      <th>Volume</th>\n",
              "      <th>Adj Close</th>\n",
              "    </tr>\n",
              "    <tr>\n",
              "      <th>Date</th>\n",
              "      <th></th>\n",
              "      <th></th>\n",
              "      <th></th>\n",
              "      <th></th>\n",
              "      <th></th>\n",
              "      <th></th>\n",
              "    </tr>\n",
              "  </thead>\n",
              "  <tbody>\n",
              "    <tr>\n",
              "      <th>2012-01-02</th>\n",
              "      <td>354.875000</td>\n",
              "      <td>343.575012</td>\n",
              "      <td>348.399994</td>\n",
              "      <td>353.274994</td>\n",
              "      <td>8598434.0</td>\n",
              "      <td>308.614227</td>\n",
              "    </tr>\n",
              "    <tr>\n",
              "      <th>2012-01-03</th>\n",
              "      <td>363.450012</td>\n",
              "      <td>355.174988</td>\n",
              "      <td>356.125000</td>\n",
              "      <td>362.325012</td>\n",
              "      <td>9366982.0</td>\n",
              "      <td>316.520142</td>\n",
              "    </tr>\n",
              "    <tr>\n",
              "      <th>2012-01-04</th>\n",
              "      <td>365.475006</td>\n",
              "      <td>356.674988</td>\n",
              "      <td>363.700012</td>\n",
              "      <td>358.075012</td>\n",
              "      <td>8476734.0</td>\n",
              "      <td>312.807434</td>\n",
              "    </tr>\n",
              "    <tr>\n",
              "      <th>2012-01-05</th>\n",
              "      <td>362.475006</td>\n",
              "      <td>347.049988</td>\n",
              "      <td>357.500000</td>\n",
              "      <td>349.750000</td>\n",
              "      <td>13239172.0</td>\n",
              "      <td>305.534882</td>\n",
              "    </tr>\n",
              "    <tr>\n",
              "      <th>2012-01-06</th>\n",
              "      <td>362.000000</td>\n",
              "      <td>348.325012</td>\n",
              "      <td>348.524994</td>\n",
              "      <td>358.774994</td>\n",
              "      <td>9406294.0</td>\n",
              "      <td>313.418945</td>\n",
              "    </tr>\n",
              "    <tr>\n",
              "      <th>...</th>\n",
              "      <td>...</td>\n",
              "      <td>...</td>\n",
              "      <td>...</td>\n",
              "      <td>...</td>\n",
              "      <td>...</td>\n",
              "      <td>...</td>\n",
              "    </tr>\n",
              "    <tr>\n",
              "      <th>2020-03-11</th>\n",
              "      <td>1178.449951</td>\n",
              "      <td>1108.000000</td>\n",
              "      <td>1108.000000</td>\n",
              "      <td>1153.550049</td>\n",
              "      <td>27237321.0</td>\n",
              "      <td>1153.550049</td>\n",
              "    </tr>\n",
              "    <tr>\n",
              "      <th>2020-03-12</th>\n",
              "      <td>1101.000000</td>\n",
              "      <td>1048.699951</td>\n",
              "      <td>1085.000000</td>\n",
              "      <td>1063.000000</td>\n",
              "      <td>25587823.0</td>\n",
              "      <td>1063.000000</td>\n",
              "    </tr>\n",
              "    <tr>\n",
              "      <th>2020-03-13</th>\n",
              "      <td>1140.000000</td>\n",
              "      <td>942.400024</td>\n",
              "      <td>998.000000</td>\n",
              "      <td>1105.300049</td>\n",
              "      <td>33509107.0</td>\n",
              "      <td>1105.300049</td>\n",
              "    </tr>\n",
              "    <tr>\n",
              "      <th>2020-03-16</th>\n",
              "      <td>1079.699951</td>\n",
              "      <td>1005.000000</td>\n",
              "      <td>1060.550049</td>\n",
              "      <td>1015.700012</td>\n",
              "      <td>17592794.0</td>\n",
              "      <td>1015.700012</td>\n",
              "    </tr>\n",
              "    <tr>\n",
              "      <th>2020-03-17</th>\n",
              "      <td>1060.000000</td>\n",
              "      <td>1003.200012</td>\n",
              "      <td>1047.250000</td>\n",
              "      <td>1008.000000</td>\n",
              "      <td>20776373.0</td>\n",
              "      <td>1008.000000</td>\n",
              "    </tr>\n",
              "  </tbody>\n",
              "</table>\n",
              "<p>2018 rows × 6 columns</p>\n",
              "</div>"
            ],
            "text/plain": [
              "                   High          Low  ...      Volume    Adj Close\n",
              "Date                                  ...                         \n",
              "2012-01-02   354.875000   343.575012  ...   8598434.0   308.614227\n",
              "2012-01-03   363.450012   355.174988  ...   9366982.0   316.520142\n",
              "2012-01-04   365.475006   356.674988  ...   8476734.0   312.807434\n",
              "2012-01-05   362.475006   347.049988  ...  13239172.0   305.534882\n",
              "2012-01-06   362.000000   348.325012  ...   9406294.0   313.418945\n",
              "...                 ...          ...  ...         ...          ...\n",
              "2020-03-11  1178.449951  1108.000000  ...  27237321.0  1153.550049\n",
              "2020-03-12  1101.000000  1048.699951  ...  25587823.0  1063.000000\n",
              "2020-03-13  1140.000000   942.400024  ...  33509107.0  1105.300049\n",
              "2020-03-16  1079.699951  1005.000000  ...  17592794.0  1015.700012\n",
              "2020-03-17  1060.000000  1003.200012  ...  20776373.0  1008.000000\n",
              "\n",
              "[2018 rows x 6 columns]"
            ]
          },
          "metadata": {
            "tags": []
          },
          "execution_count": 24
        }
      ]
    },
    {
      "cell_type": "code",
      "metadata": {
        "id": "8VbA9JmG5tMV",
        "colab_type": "code",
        "outputId": "82fe2acf-b061-4471-aa37-1701361fb0ba",
        "colab": {
          "base_uri": "https://localhost:8080/",
          "height": 595
        }
      },
      "source": [
        "#visulization of closing price\n",
        "plt.figure(figsize=(16,8))\n",
        "plt.title('Close Price History')\n",
        "plt.plot(df['Close'])\n",
        "plt.xlabel('Date', fontsize=18)\n",
        "plt.ylabel('Close Price in RS', fontsize=18)\n",
        "plt.show"
      ],
      "execution_count": 25,
      "outputs": [
        {
          "output_type": "execute_result",
          "data": {
            "text/plain": [
              "<function matplotlib.pyplot.show>"
            ]
          },
          "metadata": {
            "tags": []
          },
          "execution_count": 25
        },
        {
          "output_type": "display_data",
          "data": {
            "image/png": "[encoded data removed]",
            "text/plain": [
              "<Figure size 1152x576 with 1 Axes>"
            ]
          },
          "metadata": {
            "tags": []
          }
        }
      ]
    },
    {
      "cell_type": "code",
      "metadata": {
        "id": "O5ewG0Zpp5b6",
        "colab_type": "code",
        "outputId": "709d6a19-6093-4860-e7e9-f26ea4262e0d",
        "colab": {
          "base_uri": "https://localhost:8080/",
          "height": 34
        }
      },
      "source": [
        "#create data frame with only the close\n",
        "data=df.filter(['Close'])\n",
        "#convert dataframe to numpy array\n",
        "dataset=data.values\n",
        "#Get the number of rows to tain the model on 80%\n",
        "training_data_len=math.ceil(len(dataset)*.8)\n",
        "training_data_len"
      ],
      "execution_count": 26,
      "outputs": [
        {
          "output_type": "execute_result",
          "data": {
            "text/plain": [
              "1615"
            ]
          },
          "metadata": {
            "tags": []
          },
          "execution_count": 26
        }
      ]
    },
    {
      "cell_type": "code",
      "metadata": {
        "id": "rI1rFwZnLe79",
        "colab_type": "code",
        "outputId": "be70166c-57f9-4fab-eab9-0cafbf3bab5b",
        "colab": {
          "base_uri": "https://localhost:8080/",
          "height": 139
        }
      },
      "source": [
        "#scale the data\n",
        "scaler = MinMaxScaler(feature_range=(0,1))\n",
        "scaled_data = scaler.fit_transform(dataset)\n",
        "scaled_data     "
      ],
      "execution_count": 27,
      "outputs": [
        {
          "output_type": "execute_result",
          "data": {
            "text/plain": [
              "array([[0.01197029],\n",
              "       [0.01908564],\n",
              "       [0.01574418],\n",
              "       ...,\n",
              "       [0.60323145],\n",
              "       [0.53278563],\n",
              "       [0.52673169]])"
            ]
          },
          "metadata": {
            "tags": []
          },
          "execution_count": 27
        }
      ]
    },
    {
      "cell_type": "code",
      "metadata": {
        "id": "kRm15_suMGHk",
        "colab_type": "code",
        "outputId": "dec9b241-dcfb-417f-e0bd-72c81ab00248",
        "colab": {
          "base_uri": "https://localhost:8080/",
          "height": 680
        }
      },
      "source": [
        "#CREATE TRAINING DATASET\n",
        "#CREATE SCALED TRAINING DATASET\n",
        "train_data = scaled_data[0:training_data_len, :]\n",
        "#SPLIT THE DATA INTO XTRAIN AND YTRAIN\n",
        "x_train = []\n",
        "y_train = []\n",
        "\n",
        "for i in range(60, len(train_data)):\n",
        "  x_train.append(train_data[i-60:i,0])\n",
        "  y_train.append(train_data[i,0])\n",
        "  if i<=61:\n",
        "    print(x_train)\n",
        "    print(y_train)"
      ],
      "execution_count": 28,
      "outputs": [
        {
          "output_type": "stream",
          "text": [
            "[array([0.01197029, 0.01908564, 0.01574418, 0.00919885, 0.01629453,\n",
            "       0.01185236, 0.02362609, 0.02836309, 0.02390127, 0.02189638,\n",
            "       0.01448622, 0.02592579, 0.04074614, 0.04306551, 0.0458173 ,\n",
            "       0.03752261, 0.04231859, 0.04514901, 0.05672618, 0.04664283,\n",
            "       0.05542889, 0.06097179, 0.06020522, 0.06376288, 0.06167939,\n",
            "       0.06621984, 0.07166446, 0.06987578, 0.06570879, 0.06806747,\n",
            "       0.06792989, 0.06311426, 0.05360093, 0.05586133, 0.06582672,\n",
            "       0.06183664, 0.06427392, 0.05654927, 0.04141443, 0.04733078,\n",
            "       0.05686376, 0.05301126, 0.05424955, 0.04772389, 0.03948817,\n",
            "       0.03368976, 0.03840711, 0.04813665, 0.05654927, 0.0544068 ,\n",
            "       0.04738975, 0.0378371 , 0.0310559 , 0.03319837, 0.03614672,\n",
            "       0.02368504, 0.02671201, 0.02122808, 0.02160155, 0.0194984 ])]\n",
            "[0.0190856396831508]\n",
            "[array([0.01197029, 0.01908564, 0.01574418, 0.00919885, 0.01629453,\n",
            "       0.01185236, 0.02362609, 0.02836309, 0.02390127, 0.02189638,\n",
            "       0.01448622, 0.02592579, 0.04074614, 0.04306551, 0.0458173 ,\n",
            "       0.03752261, 0.04231859, 0.04514901, 0.05672618, 0.04664283,\n",
            "       0.05542889, 0.06097179, 0.06020522, 0.06376288, 0.06167939,\n",
            "       0.06621984, 0.07166446, 0.06987578, 0.06570879, 0.06806747,\n",
            "       0.06792989, 0.06311426, 0.05360093, 0.05586133, 0.06582672,\n",
            "       0.06183664, 0.06427392, 0.05654927, 0.04141443, 0.04733078,\n",
            "       0.05686376, 0.05301126, 0.05424955, 0.04772389, 0.03948817,\n",
            "       0.03368976, 0.03840711, 0.04813665, 0.05654927, 0.0544068 ,\n",
            "       0.04738975, 0.0378371 , 0.0310559 , 0.03319837, 0.03614672,\n",
            "       0.02368504, 0.02671201, 0.02122808, 0.02160155, 0.0194984 ]), array([0.01908564, 0.01574418, 0.00919885, 0.01629453, 0.01185236,\n",
            "       0.02362609, 0.02836309, 0.02390127, 0.02189638, 0.01448622,\n",
            "       0.02592579, 0.04074614, 0.04306551, 0.0458173 , 0.03752261,\n",
            "       0.04231859, 0.04514901, 0.05672618, 0.04664283, 0.05542889,\n",
            "       0.06097179, 0.06020522, 0.06376288, 0.06167939, 0.06621984,\n",
            "       0.07166446, 0.06987578, 0.06570879, 0.06806747, 0.06792989,\n",
            "       0.06311426, 0.05360093, 0.05586133, 0.06582672, 0.06183664,\n",
            "       0.06427392, 0.05654927, 0.04141443, 0.04733078, 0.05686376,\n",
            "       0.05301126, 0.05424955, 0.04772389, 0.03948817, 0.03368976,\n",
            "       0.03840711, 0.04813665, 0.05654927, 0.0544068 , 0.04738975,\n",
            "       0.0378371 , 0.0310559 , 0.03319837, 0.03614672, 0.02368504,\n",
            "       0.02671201, 0.02122808, 0.02160155, 0.0194984 , 0.01908564])]\n",
            "[0.0190856396831508, 0.029286894466953428]\n"
          ],
          "name": "stdout"
        }
      ]
    },
    {
      "cell_type": "code",
      "metadata": {
        "id": "CpbaxDezeZWU",
        "colab_type": "code",
        "colab": {}
      },
      "source": [
        "#CONVERT THE X_TRAIN AND Y_TRAIN TO NUMPY ARRAY\n",
        "x_train = np.array(x_train)\n",
        "y_train = np.array(y_train)"
      ],
      "execution_count": 0,
      "outputs": []
    },
    {
      "cell_type": "code",
      "metadata": {
        "id": "kA4Yrmh6fXnc",
        "colab_type": "code",
        "colab": {
          "base_uri": "https://localhost:8080/",
          "height": 34
        },
        "outputId": "96be3621-2fcd-4eb7-9a91-7bd182a3cc31"
      },
      "source": [
        "#RESHAPE THE DATA\n",
        "#2D TO 3D\n",
        "x_train = np.reshape(x_train,(x_train.shape[0],x_train.shape[1], 1))\n",
        "x_train.shape"
      ],
      "execution_count": 30,
      "outputs": [
        {
          "output_type": "execute_result",
          "data": {
            "text/plain": [
              "(1555, 60, 1)"
            ]
          },
          "metadata": {
            "tags": []
          },
          "execution_count": 30
        }
      ]
    },
    {
      "cell_type": "code",
      "metadata": {
        "id": "bkQjng_wgIQP",
        "colab_type": "code",
        "colab": {}
      },
      "source": [
        "#BUILD LSTM MODEL\n",
        "model = Sequential()\n",
        "model.add(LSTM(50, return_sequences=True, input_shape= (x_train.shape[1],1)))\n",
        "model.add(LSTM(50, return_sequences=False))\n",
        "model.add(Dense(25))\n",
        "model.add(Dense(1))"
      ],
      "execution_count": 0,
      "outputs": []
    },
    {
      "cell_type": "code",
      "metadata": {
        "id": "9_IYElOJhr-b",
        "colab_type": "code",
        "colab": {}
      },
      "source": [
        "#COMPILE THE MODEL\n",
        "model.compile(optimizer='adam', loss='mean_squared_error')"
      ],
      "execution_count": 0,
      "outputs": []
    },
    {
      "cell_type": "code",
      "metadata": {
        "id": "lZRAKfVnimH0",
        "colab_type": "code",
        "colab": {
          "base_uri": "https://localhost:8080/",
          "height": 69
        },
        "outputId": "474a1aba-654f-412d-f310-f19337cdc9bf"
      },
      "source": [
        "#TRAIN THE MODELS\n",
        "model.fit(x_train, y_train, batch_size=1, epochs=1)"
      ],
      "execution_count": 33,
      "outputs": [
        {
          "output_type": "stream",
          "text": [
            "Epoch 1/1\n",
            "1555/1555 [==============================] - 106s 68ms/step - loss: 8.6215e-04\n"
          ],
          "name": "stdout"
        },
        {
          "output_type": "execute_result",
          "data": {
            "text/plain": [
              "<keras.callbacks.History at 0x7ff368167cf8>"
            ]
          },
          "metadata": {
            "tags": []
          },
          "execution_count": 33
        }
      ]
    },
    {
      "cell_type": "code",
      "metadata": {
        "id": "tdTS0m2_jDBw",
        "colab_type": "code",
        "colab": {}
      },
      "source": [
        "#CREATE TESTING DATASET\n",
        "#CREATE A ARRAY CONTAINING SCALED VALUES \n",
        "test_data = scaled_data[training_data_len - 60:, :]\n",
        "#CREATE THE DATASET X_TEST AND Y_TEST\n",
        "x_test = []\n",
        "y_test = dataset[training_data_len:, :]\n",
        "for i in range(60, len(test_data)):\n",
        "  x_test.append(test_data[i-60:i, 0])"
      ],
      "execution_count": 0,
      "outputs": []
    },
    {
      "cell_type": "code",
      "metadata": {
        "id": "GfolHj1klGgc",
        "colab_type": "code",
        "colab": {}
      },
      "source": [
        "#CONVERT DATA INTO NUMPY ARRAY\n",
        "x_test = np.array(x_test)"
      ],
      "execution_count": 0,
      "outputs": []
    },
    {
      "cell_type": "code",
      "metadata": {
        "id": "Wxs5YO7AA5Dk",
        "colab_type": "code",
        "colab": {}
      },
      "source": [
        "#RESHAPE THE DATE\n",
        "x_test = np.reshape(x_test, (x_test.shape[0], x_test.shape[1], 1 ))"
      ],
      "execution_count": 0,
      "outputs": []
    },
    {
      "cell_type": "code",
      "metadata": {
        "id": "Xoy2B3OgES5v",
        "colab_type": "code",
        "colab": {}
      },
      "source": [
        "#Get the models predicted price values \n",
        "predictions = model.predict(x_test)\n",
        "predictions = scaler.inverse_transform(predictions)"
      ],
      "execution_count": 0,
      "outputs": []
    },
    {
      "cell_type": "code",
      "metadata": {
        "id": "eFWbOqyWE3KM",
        "colab_type": "code",
        "colab": {
          "base_uri": "https://localhost:8080/",
          "height": 34
        },
        "outputId": "f0fadb2b-fe92-406f-86e5-e67b3188b283"
      },
      "source": [
        "#Get the root mean squared error (RMSE)\n",
        "rmse =np.sqrt(np.mean(((predictions- y_test)**2)))\n",
        "rmse"
      ],
      "execution_count": 60,
      "outputs": [
        {
          "output_type": "execute_result",
          "data": {
            "text/plain": [
              "46.38293636724464"
            ]
          },
          "metadata": {
            "tags": []
          },
          "execution_count": 60
        }
      ]
    },
    {
      "cell_type": "code",
      "metadata": {
        "id": "0AkWdXPqFTxI",
        "colab_type": "code",
        "colab": {
          "base_uri": "https://localhost:8080/",
          "height": 682
        },
        "outputId": "f9ab102a-1c0e-47f8-ddf3-0a966c3eaf53"
      },
      "source": [
        "#Plot the data\n",
        "train = data[:training_data_len]\n",
        "valid = data[training_data_len:]\n",
        "valid['Predictions'] = predictions\n",
        "#Visualize the data\n",
        "plt.figure(figsize=(16,8))\n",
        "plt.title('Model')\n",
        "plt.xlabel('Date', fontsize=18)\n",
        "plt.ylabel('Close Price USD ($)', fontsize=18)\n",
        "plt.plot(train['Close'])\n",
        "plt.plot(valid[['Close', 'Predictions']])\n",
        "plt.legend(['Train', 'Val', 'Predictions'], loc='lower right')\n",
        "plt.show()"
      ],
      "execution_count": 61,
      "outputs": [
        {
          "output_type": "stream",
          "text": [
            "/usr/local/lib/python3.6/dist-packages/ipykernel_launcher.py:3: SettingWithCopyWarning: \n",
            "A value is trying to be set on a copy of a slice from a DataFrame.\n",
            "Try using .loc[row_indexer,col_indexer] = value instead\n",
            "\n",
            "See the caveats in the documentation: http://pandas.pydata.org/pandas-docs/stable/user_guide/indexing.html#returning-a-view-versus-a-copy\n",
            "  This is separate from the ipykernel package so we can avoid doing imports until\n"
          ],
          "name": "stderr"
        },
        {
          "output_type": "display_data",
          "data": {
            "image/png": "[encoded data removed]",
            "text/plain": [
              "<Figure size 1152x576 with 1 Axes>"
            ]
          },
          "metadata": {
            "tags": []
          }
        }
      ]
    },
    {
      "cell_type": "code",
      "metadata": {
        "id": "Z8xZ2NwmFn0O",
        "colab_type": "code",
        "colab": {
          "base_uri": "https://localhost:8080/",
          "height": 455
        },
        "outputId": "62694b69-1616-4484-919e-3ff2a2e72ddc"
      },
      "source": [
        "#Show the valid and predicted prices\n",
        "valid"
      ],
      "execution_count": 62,
      "outputs": [
        {
          "output_type": "execute_result",
          "data": {
            "text/html": [
              "<div>\n",
              "<style scoped>\n",
              "    .dataframe tbody tr th:only-of-type {\n",
              "        vertical-align: middle;\n",
              "    }\n",
              "\n",
              "    .dataframe tbody tr th {\n",
              "        vertical-align: top;\n",
              "    }\n",
              "\n",
              "    .dataframe thead th {\n",
              "        text-align: right;\n",
              "    }\n",
              "</style>\n",
              "<table border=\"1\" class=\"dataframe\">\n",
              "  <thead>\n",
              "    <tr style=\"text-align: right;\">\n",
              "      <th></th>\n",
              "      <th>Close</th>\n",
              "      <th>Predictions</th>\n",
              "    </tr>\n",
              "    <tr>\n",
              "      <th>Date</th>\n",
              "      <th></th>\n",
              "      <th></th>\n",
              "    </tr>\n",
              "  </thead>\n",
              "  <tbody>\n",
              "    <tr>\n",
              "      <th>2018-07-20</th>\n",
              "      <td>1128.650024</td>\n",
              "      <td>1063.771484</td>\n",
              "    </tr>\n",
              "    <tr>\n",
              "      <th>2018-07-23</th>\n",
              "      <td>1120.300049</td>\n",
              "      <td>1074.766724</td>\n",
              "    </tr>\n",
              "    <tr>\n",
              "      <th>2018-07-24</th>\n",
              "      <td>1110.949951</td>\n",
              "      <td>1084.099487</td>\n",
              "    </tr>\n",
              "    <tr>\n",
              "      <th>2018-07-25</th>\n",
              "      <td>1115.150024</td>\n",
              "      <td>1090.550049</td>\n",
              "    </tr>\n",
              "    <tr>\n",
              "      <th>2018-07-26</th>\n",
              "      <td>1110.650024</td>\n",
              "      <td>1095.385864</td>\n",
              "    </tr>\n",
              "    <tr>\n",
              "      <th>...</th>\n",
              "      <td>...</td>\n",
              "      <td>...</td>\n",
              "    </tr>\n",
              "    <tr>\n",
              "      <th>2020-03-11</th>\n",
              "      <td>1153.550049</td>\n",
              "      <td>1299.499512</td>\n",
              "    </tr>\n",
              "    <tr>\n",
              "      <th>2020-03-12</th>\n",
              "      <td>1063.000000</td>\n",
              "      <td>1266.197998</td>\n",
              "    </tr>\n",
              "    <tr>\n",
              "      <th>2020-03-13</th>\n",
              "      <td>1105.300049</td>\n",
              "      <td>1226.177856</td>\n",
              "    </tr>\n",
              "    <tr>\n",
              "      <th>2020-03-16</th>\n",
              "      <td>1015.700012</td>\n",
              "      <td>1192.575684</td>\n",
              "    </tr>\n",
              "    <tr>\n",
              "      <th>2020-03-17</th>\n",
              "      <td>1008.000000</td>\n",
              "      <td>1155.416016</td>\n",
              "    </tr>\n",
              "  </tbody>\n",
              "</table>\n",
              "<p>403 rows × 2 columns</p>\n",
              "</div>"
            ],
            "text/plain": [
              "                  Close  Predictions\n",
              "Date                                \n",
              "2018-07-20  1128.650024  1063.771484\n",
              "2018-07-23  1120.300049  1074.766724\n",
              "2018-07-24  1110.949951  1084.099487\n",
              "2018-07-25  1115.150024  1090.550049\n",
              "2018-07-26  1110.650024  1095.385864\n",
              "...                 ...          ...\n",
              "2020-03-11  1153.550049  1299.499512\n",
              "2020-03-12  1063.000000  1266.197998\n",
              "2020-03-13  1105.300049  1226.177856\n",
              "2020-03-16  1015.700012  1192.575684\n",
              "2020-03-17  1008.000000  1155.416016\n",
              "\n",
              "[403 rows x 2 columns]"
            ]
          },
          "metadata": {
            "tags": []
          },
          "execution_count": 62
        }
      ]
    },
    {
      "cell_type": "code",
      "metadata": {
        "id": "4CgJ_85xF0dt",
        "colab_type": "code",
        "colab": {
          "base_uri": "https://localhost:8080/",
          "height": 34
        },
        "outputId": "58bfc61f-83e1-45b7-b28b-d8ddd7e80853"
      },
      "source": [
        "\n",
        "\n",
        "#Get the quote\n",
        "quote = web.DataReader('RELIANCE.NS', data_source='yahoo', start='2012-01-01', end='2019-12-17')\n",
        "#Create a new dataframe\n",
        "new_df = quote.filter(['Close'])\n",
        "#Get teh last 60 day closing price values and convert the dataframe to an array\n",
        "last_60_days = new_df[-60:].values\n",
        "#Scale the data to be values between 0 and 1\n",
        "last_60_days_scaled = scaler.transform(last_60_days)\n",
        "#Create an empty list\n",
        "X_test = []\n",
        "#Append teh past 60 days\n",
        "X_test.append(last_60_days_scaled)\n",
        "#Convert the X_test data set to a numpy array\n",
        "X_test = np.array(X_test)\n",
        "#Reshape the data\n",
        "X_test = np.reshape(X_test, (X_test.shape[0], X_test.shape[1], 1))\n",
        "#Get the predicted scaled price\n",
        "pred_price = model.predict(X_test)\n",
        "#undo the scaling \n",
        "pred_price = scaler.inverse_transform(pred_price)\n",
        "print(pred_price)\n",
        "\n"
      ],
      "execution_count": 64,
      "outputs": [
        {
          "output_type": "stream",
          "text": [
            "[[1558.421]]\n"
          ],
          "name": "stdout"
        }
      ]
    },
    {
      "cell_type": "code",
      "metadata": {
        "id": "-3_TvWylGFYX",
        "colab_type": "code",
        "colab": {
          "base_uri": "https://localhost:8080/",
          "height": 86
        },
        "outputId": "9b997c3e-cc06-4fcf-c7e6-44a1f98e568e"
      },
      "source": [
        "\n",
        "\n",
        "#Get the quote\n",
        "quote2 = web.DataReader('RELIANCE.NS', data_source='yahoo', start='2020-03-17', end='2020-03-17')\n",
        "print(quote2['Close'])\n",
        "\n"
      ],
      "execution_count": 67,
      "outputs": [
        {
          "output_type": "stream",
          "text": [
            "Date\n",
            "2020-03-17    1008.0\n",
            "2020-03-18     968.5\n",
            "Name: Close, dtype: float64\n"
          ],
          "name": "stdout"
        }
      ]
    }
  ]
}