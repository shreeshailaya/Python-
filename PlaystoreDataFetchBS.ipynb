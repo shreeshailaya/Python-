{
  "nbformat": 4,
  "nbformat_minor": 0,
  "metadata": {
    "colab": {
      "name": "Untitled0.ipynb",
      "provenance": [],
      "include_colab_link": true
    },
    "kernelspec": {
      "name": "python3",
      "display_name": "Python 3"
    }
  },
  "cells": [
    {
      "cell_type": "markdown",
      "metadata": {
        "id": "view-in-github",
        "colab_type": "text"
      },
      "source": [
        "<a href=\"https://colab.research.google.com/github/shreeshailaya/Python-/blob/master/PlaystoreDataFetchBS.ipynb\" target=\"_parent\"><img src=\"https://colab.research.google.com/assets/colab-badge.svg\" alt=\"Open In Colab\"/></a>"
      ]
    },
    {
      "cell_type": "code",
      "metadata": {
        "id": "Zeol69T7GhPP",
        "colab_type": "code",
        "outputId": "c5725734-6a1e-426f-c1b0-c9b72f99c6a9",
        "colab": {
          "base_uri": "https://localhost:8080/",
          "height": 69
        }
      },
      "source": [
        "import requests\n",
        "from bs4 import BeautifulSoup\n",
        "import matplotlib.pyplot as plt\n",
        "import matplotlib.image as mpimg\n",
        "\n",
        "pkgname=input('Enter package name:-  ')\n",
        "blink='https://play.google.com/store/apps/details?id='\n",
        "url=blink+pkgname\n",
        "\n",
        "\n",
        "headers={\n",
        "    \"User-Agent\":'Mozilla/5.0 (X11; Ubuntu; Linux x86_64; rv:68.0) Gecko/20100101 Firefox/68.0'\n",
        "}\n",
        "\n",
        "\n",
        "page=requests.get(url, headers=headers)\n",
        "soup=BeautifulSoup(page.content,'html.parser')\n",
        "\n",
        "def titleFetch():\n",
        "  title=soup.title.text\n",
        "  print('Title:-', title)\n",
        "\n",
        "def decFetch(): \n",
        "  for e in soup.findAll('br'):\n",
        "    e.extract()\n",
        "  for f in soup.findAll('b'):\n",
        "    f.extract()\n",
        "  \n",
        "  for g in soup.findAll('a'):\n",
        "    g.extract()\n",
        "\n",
        "  info=soup.find('div',{'jsname':'sngebd'})\n",
        "  print('Description:-',info.prettify()[0:2000])\n",
        "  \n",
        "\n",
        "def imgFetch():\n",
        "  image=soup.find('img',{'class':'T75of sHb2Xb'})\n",
        "  imgurl=image[\"src\"]\n",
        "  img=mpimg.imread(imgurl)\n",
        "  imgplot = plt.imshow(img)\n",
        "  plt.show()\n",
        "\n",
        "\n",
        "def authFetch():\n",
        "  auth=soup.find('a',{'class':'hrTbp R8zArc'})\n",
        "  auth1=auth.get_text()\n",
        "  print('Developer:',auth1)\n",
        "\n",
        "def ndownldsFetch():\n",
        "  ndown=soup.findAll('span',{'class':'htlgb'})[5]\n",
        "  ndown1=ndown\n",
        "  for f in ndown1('span'):\n",
        "    f.extract()\n",
        "\n",
        "\n",
        "  print('No Of Downloads:- ' ,ndown1)\n",
        "  \n",
        "\n",
        "\n",
        "ndownldsFetch()\n",
        "titleFetch()\n",
        "authFetch()\n",
        "imgFetch()\n",
        "decFetch()\n",
        "\n",
        "\n",
        "\n",
        "\n",
        "\n"
      ],
      "execution_count": 39,
      "outputs": [
        {
          "output_type": "stream",
          "text": [
            "Enter package name:-  com.frogmind.badlandbrawl\n",
            "No Of Downloads:-  <span class=\"htlgb\">5,000,000+</span>\n"
          ],
          "name": "stdout"
        },
        {
          "output_type": "execute_result",
          "data": {
            "text/plain": [
              "'\\ntitleFetch()\\nauthFetch()\\nimgFetch()\\ndecFetch()\\n'"
            ]
          },
          "metadata": {
            "tags": []
          },
          "execution_count": 39
        }
      ]
    }
  ]
}