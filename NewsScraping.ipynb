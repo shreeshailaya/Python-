{
  "nbformat": 4,
  "nbformat_minor": 0,
  "metadata": {
    "colab": {
      "name": "NewsScraping.ipynb",
      "provenance": [],
      "authorship_tag": "ABX9TyMymhAoysl6e/Kk4vzvAIz5",
      "include_colab_link": true
    },
    "kernelspec": {
      "name": "python3",
      "display_name": "Python 3"
    }
  },
  "cells": [
    {
      "cell_type": "markdown",
      "metadata": {
        "id": "view-in-github",
        "colab_type": "text"
      },
      "source": [
        "<a href=\"https://colab.research.google.com/github/shreeshailaya/Python-/blob/master/NewsScraping.ipynb\" target=\"_parent\"><img src=\"https://colab.research.google.com/assets/colab-badge.svg\" alt=\"Open In Colab\"/></a>"
      ]
    },
    {
      "cell_type": "code",
      "metadata": {
        "id": "xwW7p9iAEo1v",
        "colab_type": "code",
        "outputId": "b4f24019-c9cc-4141-85ab-e33eb88cb0db",
        "colab": {
          "base_uri": "https://localhost:8080/",
          "height": 941
        }
      },
      "source": [
        "import requests\n",
        "from bs4 import BeautifulSoup\n",
        "import matplotlib.pyplot as plt\n",
        "import matplotlib.image as mpimg\n",
        "from textblob import TextBlob\n",
        "\n",
        "def precentage(part, whole):\n",
        "  return 100*float(part)/float(whole)\n",
        "\n",
        "name=input('Enter share name:-  ')\n",
        "share=name+'+share'\n",
        "\n",
        "url='https://www.bing.com/news/search?q='+ name +'+share&qs=n&form=NWRFSH'\n",
        "print(url)\n",
        "\n",
        "\n",
        "headers={\n",
        "    \"User-Agent\":'Mozilla/5.0 (X11; Ubuntu; Linux x86_64; rv:68.0) Gecko/20100101 Firefox/68.0'\n",
        "}\n",
        "page=requests.get(url, headers)\n",
        "soup=BeautifulSoup(page.content,'html.parser')\n",
        "noOfSearch=10\n",
        "positive = 0\n",
        "negative = 0 \n",
        "neutral = 0\n",
        "polarity = 0\n",
        "for x in range (noOfSearch):\n",
        "  title=soup.findAll('a',{'class':'title'})[x]\n",
        "  print('Title:-',title.text)\n",
        "  analysis =TextBlob(title.text)\n",
        "\n",
        "  source=soup.findAll('div',{'class':'source'})[x]\n",
        "  print('Source/Time:-', source.text)\n",
        "\n",
        "\n",
        "\n",
        "  print(\"________________________________________________________________________________\")\n",
        "\n",
        "\n",
        "\n",
        "  polarity += analysis.sentiment.polarity\n",
        "\n",
        "  if (analysis.sentiment.polarity == 0.000):\n",
        "    neutral += 1\n",
        "\n",
        "  elif (analysis.sentiment.polarity < 0.000):\n",
        "    negative += 1\n",
        "\n",
        "  elif (analysis.sentiment.polarity > 0.000):\n",
        "    positive += 1  \n",
        "\n",
        "positive = precentage(positive, noOfSearch)  \n",
        "negative = precentage(negative, noOfSearch)  \n",
        "neutral = precentage(neutral, noOfSearch)  \n",
        "\n",
        "print(polarity)\n",
        "\n",
        "if (polarity==0):\n",
        "  print ('Neutral')\n",
        "elif (polarity < 0.000):\n",
        "  print('Negative')\n",
        "elif(polarity>0.000):\n",
        "  print('Posative') \n",
        "\n",
        "\n",
        "labels = ['Positive [' + str(positive) + '%]', 'Negative [' + str(negative) + '%]', 'Neutral [' + str(neutral) + '%]']\n",
        "sizes = [positive, neutral, negative]\n",
        "colors = ['yellowgreen','lightgreen','darkgreen']\n",
        "patches, texts = plt.pie(sizes, colors=colors, startangle=90)\n",
        "plt.legend(patches, labels, loc=\"best\")\n",
        "plt.title('How people are reacting on ')\n",
        "plt.axis('equal')\n",
        "plt.tight_layout()\n",
        "plt.show()\n"
      ],
      "execution_count": 43,
      "outputs": [
        {
          "output_type": "stream",
          "text": [
            "Enter share name:-  icici\n",
            "https://www.bing.com/news/search?q=icici+share&qs=n&form=NWRFSH\n",
            "Title:- ICICI Bank, IndusInd Bank share prices tank up to 10%; check what’s fueling fall in bank stocks\n",
            "Source/Time:- The Financial Express4d\n",
            "________________________________________________________________________________\n",
            "Title:- Buy JK Lakshmi Cement; target of Rs 260: ICICI Direct\n",
            "Source/Time:- moneycontrol.com11h\n",
            "________________________________________________________________________________\n",
            "Title:- Buy HCL Technologies; target of Rs 585: ICICI Direct\n",
            "Source/Time:- moneycontrol.com14h\n",
            "________________________________________________________________________________\n",
            "Title:- Why ICICI Bank share price closed 5% today despite 26% rise in Q4 net profit\n",
            "Source/Time:- Business Today11d\n",
            "________________________________________________________________________________\n",
            "Title:- Share Market Highlights: Sensex ends 740 points down from day’s high, Nifty settles below 9,250; ICICI Bank slips 5%\n",
            "Source/Time:- The Financial Express11d\n",
            "________________________________________________________________________________\n",
            "Title:- Market updates: Sensex closes 260 points lower at 30,672 as RBI measures fail to cheer investors\n",
            "Source/Time:- Business Line5h\n",
            "________________________________________________________________________________\n",
            "Title:- ICICI Bank shares slump 5% despite Q4 profit rise\n",
            "Source/Time:- Sify.com10d\n",
            "________________________________________________________________________________\n",
            "Title:- What Wall Street expects from ICICI Bank's earnings\n",
            "Source/Time:- Business Insider13d\n",
            "________________________________________________________________________________\n",
            "Title:- From IndusInd to ICICI Bank to SBI ⁠— banks were among the worst-hit despite the government pause on new bad loans\n",
            "Source/Time:- Business Insider India4d\n",
            "________________________________________________________________________________\n",
            "Title:- ICICI Bank beefs up covid-19 provisions, but slippages should worry investors\n",
            "Source/Time:- Mint11d\n",
            "________________________________________________________________________________\n",
            "-0.6295959595959595\n",
            "Negative\n"
          ],
          "name": "stdout"
        },
        {
          "output_type": "display_data",
          "data": {
            "image/png": "[encoded data removed]",
            "text/plain": [
              "<Figure size 432x288 with 1 Axes>"
            ]
          },
          "metadata": {
            "tags": []
          }
        }
      ]
    }
  ]
}