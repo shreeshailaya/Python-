{
  "nbformat": 4,
  "nbformat_minor": 0,
  "metadata": {
    "colab": {
      "name": "Untitled1.ipynb",
      "provenance": [],
      "include_colab_link": true
    },
    "kernelspec": {
      "name": "python3",
      "display_name": "Python 3"
    }
  },
  "cells": [
    {
      "cell_type": "markdown",
      "metadata": {
        "id": "view-in-github",
        "colab_type": "text"
      },
      "source": [
        "<a href=\"https://colab.research.google.com/github/shreeshailaya/Python-/blob/master/Amazon%20Price%20Tracker.ipynb\" target=\"_parent\"><img src=\"https://colab.research.google.com/assets/colab-badge.svg\" alt=\"Open In Colab\"/></a>"
      ]
    },
    {
      "cell_type": "code",
      "metadata": {
        "id": "hvpZ2JSK_bR6",
        "colab_type": "code",
        "colab": {
          "base_uri": "https://localhost:8080/",
          "height": 52
        },
        "outputId": "2ecfd528-c714-46ed-e3a5-a2f336e43a87"
      },
      "source": [
        "import requests\n",
        "from bs4 import BeautifulSoup\n",
        "import smtplib\n",
        "url=\"https://www.amazon.in/gp/product/B07X1KT6LW/ref=s9_acss_bw_cg_LP_1a1_w?pf_rd_m=A1K21FY43GMZF8&pf_rd_s=merchandised-search-4&pf_rd_r=HT2QNXCKN4D29315X81B&pf_rd_t=101&pf_rd_p=e8f65f1d-d53f-42ed-9990-f5b8c8d73bfe&pf_rd_i=20303904031\"\n",
        "\n",
        "headers={\n",
        "    \"User-Agent\":'Mozilla/5.0 (X11; Ubuntu; Linux x86_64; rv:68.0) Gecko/20100101 Firefox/68.0'\n",
        "}\n",
        "\n",
        "\n",
        "def fetch_info():\n",
        "\n",
        "  page=requests.get(url, headers=headers)\n",
        "  soup=BeautifulSoup(page.content,'html.parser')\n",
        "  title=soup.find(id='productTitle').get_text()\n",
        "  price=soup.find(id='priceblock_dealprice').get_text()\n",
        "  print(title.strip())\n",
        "  print(price)\n",
        "  converted_price=price[1:15]\n",
        "  cp1=converted_price.replace(',','')\n",
        "  cp2=float(cp1)\n",
        "\n",
        "  if(cp2<14000):\n",
        "  #  print ('2562')\n",
        "    send_mail()\n",
        "\n",
        "\n",
        "def send_mail():\n",
        "  server=smtplib.SMTP('smtp.google.com',587)\n",
        "  server.ehlo()\n",
        "  server.starttls()\n",
        "  server.ehlo()\n",
        "\n",
        "  server.login('s.r.vitkar55@gmail.com','xxx')\n",
        "  subject='price is down'\n",
        "  body='Check link is here '\n",
        "  msg=f\"Subject:{subject}\\n\\n{body}\"\n",
        "\n",
        "  server.sendmail(\n",
        "      's.r.vitkar55@gmail.com'\n",
        "      'admin@mech2it.com',msg\n",
        "  ) \n",
        "  print (\"Email has been sent\")\n",
        "  server.quit()\n",
        "\n",
        "fetch_info()\n",
        "\n",
        "\n",
        "\n",
        "\n",
        "\n"
      ],
      "execution_count": 32,
      "outputs": [
        {
          "output_type": "stream",
          "text": [
            "Redmi Note 8 Pro (Halo White, 6GB RAM, 64GB Storage)\n",
            "₹ 14,999.00\n"
          ],
          "name": "stdout"
        }
      ]
    }
  ]
}