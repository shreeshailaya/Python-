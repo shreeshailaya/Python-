{
  "nbformat": 4,
  "nbformat_minor": 0,
  "metadata": {
    "colab": {
      "name": "MetaTag KeyWords Finder.ipynb",
      "provenance": [],
      "authorship_tag": "ABX9TyNxNWsMprAFPOkgkzZ8ovV8",
      "include_colab_link": true
    },
    "kernelspec": {
      "name": "python3",
      "display_name": "Python 3"
    }
  },
  "cells": [
    {
      "cell_type": "markdown",
      "metadata": {
        "id": "view-in-github",
        "colab_type": "text"
      },
      "source": [
        "<a href=\"https://colab.research.google.com/github/shreeshailaya/Python-/blob/master/MetaTag_KeyWords_Finder.ipynb\" target=\"_parent\"><img src=\"https://colab.research.google.com/assets/colab-badge.svg\" alt=\"Open In Colab\"/></a>"
      ]
    },
    {
      "cell_type": "code",
      "metadata": {
        "id": "55JnzB3CYKCR",
        "colab_type": "code",
        "colab": {}
      },
      "source": [
        "from bs4 import BeautifulSoup\n",
        "import requests\n"
      ],
      "execution_count": 0,
      "outputs": []
    },
    {
      "cell_type": "code",
      "metadata": {
        "id": "5lAVD5v3Ygiv",
        "colab_type": "code",
        "outputId": "def3ecfb-f186-40ad-90e2-effe2d235999",
        "colab": {
          "base_uri": "https://localhost:8080/",
          "height": 163
        }
      },
      "source": [
        "ip_url=input('Enter share name:-  ')\n",
        "\n",
        "\n",
        "url='https://'+ ip_url\n",
        "\n",
        "\n",
        "headers={\n",
        "    \"User-Agent\":'Mozilla/5.0 (X11; Ubuntu; Linux x86_64; rv:68.0) Gecko/20100101 Firefox/68.0'\n",
        "}\n",
        "\n",
        "page=requests.get(url, headers = headers)\n",
        "soup=BeautifulSoup(page.content,'html.parser')\n",
        "\n",
        "\n",
        "source=soup.find('meta', attrs={'name': 'keywords'})\n",
        "print(source)\n",
        "\n",
        "source=soup.find(\"meta\",  property=\"og:description\")\n",
        "print(source)\n",
        "\n",
        "source=soup.find(\"meta\",  property=\"og:image\")\n",
        "print(source)\n",
        "\n",
        "source=soup.find(\"meta\",  property=\"og:type\")\n",
        "print(source)\n",
        "\n",
        "\n",
        "source=soup.find('meta', attrs={'name': 'csrf-token'})\n",
        "print(source)\n",
        "\n",
        "\"\"\"del source['name']\n",
        "print(type(source))\n",
        "str_source = str(source)\n",
        "print(str_source[15:])\n",
        "print(str_source.rstrip('/'))\"\"\""
      ],
      "execution_count": 4,
      "outputs": [
        {
          "output_type": "stream",
          "text": [
            "Enter share name:-  dotabuff.com\n",
            "<meta content=\"dota 2 statistics, dota 2 stats, dota 2, statistics, dota, hero builds, guides\" name=\"keywords\"/>\n",
            "<meta content=\"Dotabuff is the leading statistics and community website for Dota 2\" property=\"og:description\"/>\n",
            "<meta content=\"https://www.dotabuff.com/assets/dotabuff-opengraph-b17d3bd0ba45b284eb2760acaaf394433560a220fcea9391a5eaa487be5823e1.png\" property=\"og:image\"/>\n",
            "<meta content=\"website\" property=\"og:type\"/>\n",
            "<meta content=\"eoxxDYslZrmwbHtMnLS/nbtya59I1cFwTyT2+VaW8e99Z9iv2qxwt9ComJMVHYV4U3C4JTU7nsegPEHdYazY3A==\" name=\"csrf-token\"/>\n"
          ],
          "name": "stdout"
        },
        {
          "output_type": "execute_result",
          "data": {
            "text/plain": [
              "\"del source['name']\\nprint(type(source))\\nstr_source = str(source)\\nprint(str_source[15:])\\nprint(str_source.rstrip('/'))\""
            ]
          },
          "metadata": {
            "tags": []
          },
          "execution_count": 4
        }
      ]
    }
  ]
}